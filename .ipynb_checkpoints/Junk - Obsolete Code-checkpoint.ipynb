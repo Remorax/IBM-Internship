{
 "cells": [
  {
   "cell_type": "code",
   "execution_count": null,
   "metadata": {},
   "outputs": [],
   "source": [
    "from xml.dom import minidom\n",
    "\n",
    "all_ontologies = list(set([item + \".owl\" for sublist in [f.split(\".\")[0].split(\"-\") for  f in os.listdir(alignment_folder)] for item in sublist]))\n",
    "ontologies_folder = \"conference_ontologies/\"\n",
    "\n",
    "def parse_classes(ontology):\n",
    "    prefix = \"http://\" + ontology.split(\".\")[0] + \"#\"\n",
    "    doc = minidom.parse(ontology)\n",
    "    curr_classes = [el.getAttribute(\"rdf:ID\") for el in doc.getElementsByTagName('owl:Class')]\n",
    "    classes = [prefix + el for el in curr_classes if el]\n",
    "    return classes\n",
    "\n",
    "def parse_properties(ontology):\n",
    "    properties = []\n",
    "    for onto in ontologies:\n",
    "        prefix = \"http://\" + onto.split(\".\")[0] + \"#\"\n",
    "        doc = minidom.parse(folder + onto)\n",
    "        root = doc.documentElement\n",
    "        curr_properties = [el.getAttribute(\"rdf:ID\") for el in doc.getElementsByTagName('ObjectProperty')]\n",
    "        properties.extend([prefix + el for el in curr_properties if el])\n",
    "    return properties\n",
    "\n",
    "classes, properties = [], []\n",
    "for ontology in all_ontologies:\n",
    "    classes.extend(parse_classes(ontologies_folder + ontology))\n",
    "    properties.extend(parse_properties(ontologies_folder + ontology))\n",
    "properties = load_properties(ontologies_folder)\n"
   ]
  },
  {
   "cell_type": "code",
   "execution_count": null,
   "metadata": {},
   "outputs": [],
   "source": [
    "def replace_hyphen(ontology, replaced_props):\n",
    "    onto_str = open(ontology).read()\n",
    "    for (a,b) in replaced_props:\n",
    "        onto_str = onto_str.replace(a,b)\n",
    "    ontology_temp = ontology.split(\".\")[0] + \"_temp.owl\"\n",
    "    open(ontology_temp, \"w+\").write(onto_str)\n",
    "    return ontology_temp\n",
    "\n",
    "replaced_props = [(str(prop).split(\".\")[1], str(prop).split(\".\")[1].replace(\"-\", \"_\")) for prop in list(onto.properties()) if \"-\" in str(prop)]\n",
    "replaced_ontology = replace_hyphen(ontology, replaced_props)\n",
    "replaced_onto = get_ontology(replaced_ontology).load()\n",
    "# os.remove(replaced_ontology)"
   ]
  },
  {
   "cell_type": "code",
   "execution_count": null,
   "metadata": {},
   "outputs": [],
   "source": [
    "prefix = \"http://\" + ontology.split(\".\")[0] + \"#\"\n",
    "doc = minidom.parse(ontology)\n",
    "root = doc.documentElement\n",
    "curr_properties = [el.getAttribute(\"rdf:ID\") for el in doc.getElementsByTagName('Class')]\n",
    "# properties.extend([prefix + el for el in curr_properties if el])"
   ]
  },
  {
   "cell_type": "code",
   "execution_count": null,
   "metadata": {},
   "outputs": [],
   "source": [
    "props = [el for el in root.childNodes if type(el) == minidom.Element and el._get_tagName() == 'owl:ObjectProperty'] \n",
    "prop_ids = [prop.getAttribute('rdf:ID') for prop in props if prop.getAttribute('rdf:ID')]"
   ]
  },
  {
   "cell_type": "code",
   "execution_count": null,
   "metadata": {},
   "outputs": [],
   "source": [
    "doc = minidom.parse(ontology)\n",
    "object_props = [el.getAttribute(\"rdf:ID\") for el in doc.getElementsByTagName('owl:ObjectProperty')]\n",
    "filt = [[e for e in el._get_childNodes() if type(e)==minidom.Element and e._get_tagName() == \"rdf:type\"] for el in doc.getElementsByTagName('owl:FunctionalProperty')]\n",
    "[el[0].getAttribute(\"rdf:resource\") for el in filt if el]\n"
   ]
  }
 ],
 "metadata": {
  "kernelspec": {
   "display_name": "Python 3",
   "language": "python",
   "name": "python3"
  },
  "language_info": {
   "codemirror_mode": {
    "name": "ipython",
    "version": 3
   },
   "file_extension": ".py",
   "mimetype": "text/x-python",
   "name": "python",
   "nbconvert_exporter": "python",
   "pygments_lexer": "ipython3",
   "version": "3.7.6"
  }
 },
 "nbformat": 4,
 "nbformat_minor": 4
}
