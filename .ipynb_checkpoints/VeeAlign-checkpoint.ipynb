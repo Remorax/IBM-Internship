{
 "cells": [
  {
   "cell_type": "code",
   "execution_count": 186,
   "metadata": {},
   "outputs": [],
   "source": [
    "# Construction of dataset\n",
    "\n",
    "import os, itertools\n",
    "from xml.dom import minidom\n",
    "from collections import Counter\n",
    "\n",
    "\n",
    "alignment_folder = \"reference-alignment/\"\n",
    "\n",
    "# Load reference alignments \n",
    "def load_alignments(folder):\n",
    "    alignments = []\n",
    "    for f in os.listdir(folder):\n",
    "        doc = minidom.parse(folder + f)\n",
    "        ls = list(zip(doc.getElementsByTagName('entity1'), doc.getElementsByTagName('entity2')))\n",
    "        alignments.extend([(a.getAttribute('rdf:resource'), b.getAttribute('rdf:resource')) for (a,b) in ls])\n",
    "    return alignments\n",
    "        \n",
    "reference_alignments = load_alignments(alignment_folder)"
   ]
  },
  {
   "cell_type": "code",
   "execution_count": 182,
   "metadata": {},
   "outputs": [],
   "source": [
    "\n",
    "class Ontology():\n",
    "    def __init__(self, ontology):\n",
    "        self.ontology = ontology\n",
    "        self.ontology_obj = minidom.parse(ontology)\n",
    "        self.root = self.ontology_obj.documentElement\n",
    "        self.object_prop = \"http://www.w3.org/2002/07/owl#ObjectProperty\"\n",
    "        self.data_prop = \"http://www.w3.org/2002/07/owl#DatatypeProperty\"\n",
    "    \n",
    "    def get_child_node(self, element, tag):\n",
    "        return [e for e in element._get_childNodes() if type(e)==minidom.Element and e._get_tagName() == tag]\n",
    "        \n",
    "    def has_attribute_value(self, element, attribute, value):\n",
    "        return True if element.getAttribute(attribute).split(\"#\")[-1] == value else False\n",
    "    \n",
    "    def get_triples(self):\n",
    "        obj_props = self.parse_object_properties()\n",
    "        all_triples = []\n",
    "        for prop in obj_props:\n",
    "            domain_children = self.get_child_node(prop, \"rdfs:domain\")\n",
    "            range_children = self.get_child_node(prop, \"rdfs:range\")\n",
    "            domain_prop = self.filter_null([self.extract_ID(el) for el in domain_children])\n",
    "            range_prop = self.filter_null([self.extract_ID(el) for el in range_children])\n",
    "            if not domain_children or not range_children:\n",
    "                continue\n",
    "            if not domain_prop:\n",
    "                domain_prop = self.filter_null([self.extract_ID(el) for el in domain_children[0].getElementsByTagName(\"owl:Class\")])\n",
    "            if not range_prop:\n",
    "                range_prop = self.filter_null([self.extract_ID(el) for el in range_children[0].getElementsByTagName(\"owl:Class\")])\n",
    "            if domain_prop and range_prop:\n",
    "                all_triples.extend([(el[0], el[1], self.extract_ID(prop)) for el in list(itertools.product(domain_prop, range_prop))])\n",
    "        return list(set(all_triples))\n",
    "        \n",
    "    \n",
    "    def filter_null(self, data):\n",
    "        return [el for el in data if el]\n",
    "    \n",
    "    def extract_ID(self, element):\n",
    "        element_id = element.getAttribute(\"rdf:ID\") or element.getAttribute(\"rdf:resource\") or element.getAttribute(\"rdf:about\")\n",
    "        return element_id.split(\"#\")[-1]\n",
    "    \n",
    "    def parse_classes(self):\n",
    "        return self.root.getElementsByTagName(\"owl:Class\")\n",
    "    \n",
    "    def classes(self):\n",
    "        classes = [self.extract_ID(el) for el in self.parse_classes()]\n",
    "        return list(set(self.filter_null(classes)))\n",
    "\n",
    "    def parse_object_properties(self):\n",
    "        obj_properties = [el for el in self.get_child_node(self.root, 'owl:ObjectProperty')]\n",
    "        fn_obj_properties = [el for el in self.get_child_node(self.root, 'owl:FunctionalProperty') if el]\n",
    "        fn_obj_properties = [el for el in fn_obj_properties if type(el)==minidom.Element and \n",
    "            self.has_attribute_value(self.get_child_node(el, \"rdf:type\")[0], \"rdf:resource\", \"ObjectProperty\")]\n",
    "        inv_fn_obj_properties = [el for el in self.get_child_node(self.root, 'owl:InverseFunctionalProperty') if el]\n",
    "        inv_fn_obj_properties = [el for el in inv_fn_obj_properties if type(el)==minidom.Element and \n",
    "            self.has_attribute_value(self.get_child_node(el, \"rdf:type\")[0], \"rdf:resource\", \"ObjectProperty\")]\n",
    "        return obj_properties + fn_obj_properties + inv_fn_obj_properties\n",
    "    \n",
    "    def object_properties(self):\n",
    "        obj_props = [self.extract_ID(el) for el in self.parse_object_properties()]\n",
    "        return list(set(self.filter_null(obj_props)))\n",
    "\n",
    "    def load_ontology(self):    \n",
    "        onto = get_ontology(self.ontology).load()\n",
    "        return onto\n",
    "\n"
   ]
  },
  {
   "cell_type": "code",
   "execution_count": 194,
   "metadata": {},
   "outputs": [],
   "source": [
    "\n",
    "flatten = lambda l: [item for sublist in l for item in sublist]\n",
    "ontologies_in_alignment = [l.split(\".\")[0].split(\"-\") for l in os.listdir(\"reference-alignment/\")]\n",
    "\n",
    "def generate(ontology, concept_prefix, id_prefix=[0,0]):\n",
    "    ont = Ontology(ontology)\n",
    "    classes_dict = {concept_prefix+\"#\"+elem : str(id_prefix[0] + i) for i,elem in enumerate(list(set(ont.classes())))} \n",
    "    \n",
    "    prop_dict = {concept_prefix+\"#\"+elem : str(id_prefix[1] + i) for i,elem in enumerate(list(set(ont.object_properties())))} \n",
    "    triplets = [\"\\t\".join((classes_dict[concept_prefix+\"#\"+el[0]], classes_dict[concept_prefix+\"#\"+el[1]], prop_dict[concept_prefix+\"#\"+el[2]]))\n",
    "                for el in list(set(ont.get_triples()))]\n",
    "    return classes_dict, prop_dict, triplets\n",
    "\n",
    "    \n",
    "for l in ontologies_in_alignment:\n",
    "    ont1 = \"conference_ontologies/\" + l[0] + \".owl\"\n",
    "    ont2 = \"conference_ontologies/\" + l[1] + \".owl\"\n",
    "    \n",
    "    benchmark_dir = \"OpenKE/benchmarks/\" + l[0] + \"-\" + l[1]\n",
    "    if not os.path.isdir(benchmark_dir):\n",
    "        os.mkdir(benchmark_dir)\n",
    "    \n",
    "    c1, p1, t1 = generate(ont1, l[0])\n",
    "    c2, p2, t2 = generate(ont2, l[1], [len(c1), len(p1)])\n",
    "    \n",
    "    classes_dict = {**c1, **c2}\n",
    "    prop_dict = {**p1, **p2}\n",
    "    triplets = t1 + t2\n",
    "    \n",
    "    entity_str = str(len(classes_dict)) + \"\\n\" + \"\\n\".join([\"\\t\".join(elem) for elem in classes_dict.items()])\n",
    "    prop_str = str(len(prop_dict)) + \"\\n\" + \"\\n\".join([\"\\t\".join(elem) for elem in prop_dict.items()])\n",
    "    triplets_str = str(len(triplets)) + \"\\n\" + \"\\n\".join(triplets)\n",
    "\n",
    "    open(benchmark_dir + \"/entity2id.txt\", \"w+\").write(entity_str)\n",
    "    open(benchmark_dir + \"/relation2id.txt\", \"w+\").write(prop_str)\n",
    "    open(benchmark_dir + \"/train2id.txt\", \"w+\").write(triplets_str)"
   ]
  },
  {
   "cell_type": "code",
   "execution_count": 154,
   "metadata": {},
   "outputs": [],
   "source": [
    "import torch\n",
    "model = torch.load(\"OpenKE/conference.ckpt\")"
   ]
  },
  {
   "cell_type": "code",
   "execution_count": 190,
   "metadata": {},
   "outputs": [
    {
     "data": {
      "text/plain": [
       "[['conference', 'ekaw'],\n",
       " ['confOf', 'ekaw'],\n",
       " ['ekaw', 'sigkdd'],\n",
       " ['edas', 'sigkdd'],\n",
       " ['confOf', 'sigkdd'],\n",
       " ['iasted', 'sigkdd'],\n",
       " ['confOf', 'iasted'],\n",
       " ['conference', 'iasted'],\n",
       " ['confOf', 'edas'],\n",
       " ['edas', 'iasted'],\n",
       " ['conference', 'edas'],\n",
       " ['cmt', 'ekaw'],\n",
       " ['cmt', 'confOf'],\n",
       " ['cmt', 'edas'],\n",
       " ['conference', 'sigkdd'],\n",
       " ['cmt', 'sigkdd'],\n",
       " ['conference', 'confOf'],\n",
       " ['edas', 'ekaw'],\n",
       " ['cmt', 'conference'],\n",
       " ['cmt', 'iasted'],\n",
       " ['ekaw', 'iasted']]"
      ]
     },
     "execution_count": 190,
     "metadata": {},
     "output_type": "execute_result"
    }
   ],
   "source": [
    "ontologies_in_alignment\n"
   ]
  },
  {
   "cell_type": "code",
   "execution_count": 184,
   "metadata": {},
   "outputs": [
    {
     "data": {
      "text/plain": [
       "54"
      ]
     },
     "execution_count": 184,
     "metadata": {},
     "output_type": "execute_result"
    }
   ],
   "source": [
    "ont = Ontology(\"conference_ontologies/conference.owl\")\n",
    "len(ont.get_triples())"
   ]
  },
  {
   "cell_type": "code",
   "execution_count": null,
   "metadata": {},
   "outputs": [],
   "source": []
  }
 ],
 "metadata": {
  "kernelspec": {
   "display_name": "Python 3",
   "language": "python",
   "name": "python3"
  },
  "language_info": {
   "codemirror_mode": {
    "name": "ipython",
    "version": 3
   },
   "file_extension": ".py",
   "mimetype": "text/x-python",
   "name": "python",
   "nbconvert_exporter": "python",
   "pygments_lexer": "ipython3",
   "version": "3.7.6"
  }
 },
 "nbformat": 4,
 "nbformat_minor": 4
}
