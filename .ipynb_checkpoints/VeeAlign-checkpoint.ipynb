{
 "cells": [
  {
   "cell_type": "code",
   "execution_count": 37,
   "metadata": {},
   "outputs": [],
   "source": [
    "import os\n",
    "import xml.etree.ElementTree as ET\n",
    "\n",
    "# Construction of dataset\n",
    "\n",
    "# Load reference alignments \n",
    "relation_prefix = \"{http://www.w3.org/1999/02/22-rdf-syntax-ns#}\"\n",
    "concept_prefix = \"{http://knowledgeweb.semanticweb.org/heterogeneity/alignment}\"\n",
    "\n",
    "def load_alignments(folder):\n",
    "    alignments = []\n",
    "    for f in os.listdir(folder):\n",
    "        tree = ET.parse(folder + f)\n",
    "        root = tree.getroot()\n",
    "        maps = root[0].findall(concept_prefix + \"map\")\n",
    "        cells = [mapping.find(concept_prefix + \"Cell\") for mapping in maps]\n",
    "        entities = [(cell.find(concept_prefix + \"entity1\"), cell.find(concept_prefix + \"entity2\")) for cell in cells]\n",
    "        alignments.extend([(entity[0].get(relation_prefix + \"resource\"), entity[1].get(relation_prefix + \"resource\")) for entity in entities])\n",
    "    return alignments\n",
    "        \n",
    "reference_alignments = load_alignments(\"reference-alignment/\")"
   ]
  },
  {
   "cell_type": "code",
   "execution_count": 48,
   "metadata": {},
   "outputs": [
    {
     "ename": "AttributeError",
     "evalue": "'Ontology' object has no attribute 'relationships'",
     "output_type": "error",
     "traceback": [
      "\u001b[0;31m---------------------------------------------------------------------------\u001b[0m",
      "\u001b[0;31mAttributeError\u001b[0m                            Traceback (most recent call last)",
      "\u001b[0;32m<ipython-input-48-a6559f709134>\u001b[0m in \u001b[0;36m<module>\u001b[0;34m\u001b[0m\n\u001b[1;32m      1\u001b[0m \u001b[0;32mfrom\u001b[0m \u001b[0mpronto\u001b[0m \u001b[0;32mimport\u001b[0m \u001b[0mOntology\u001b[0m\u001b[0;34m\u001b[0m\u001b[0;34m\u001b[0m\u001b[0m\n\u001b[1;32m      2\u001b[0m \u001b[0mont\u001b[0m \u001b[0;34m=\u001b[0m \u001b[0mOntology\u001b[0m\u001b[0;34m(\u001b[0m\u001b[0;34m\"conference_ontologies/Conference.owl\"\u001b[0m\u001b[0;34m)\u001b[0m\u001b[0;34m\u001b[0m\u001b[0;34m\u001b[0m\u001b[0m\n\u001b[0;32m----> 3\u001b[0;31m \u001b[0mont\u001b[0m\u001b[0;34m.\u001b[0m\u001b[0mrelationships\u001b[0m\u001b[0;34m\u001b[0m\u001b[0;34m\u001b[0m\u001b[0m\n\u001b[0m",
      "\u001b[0;31mAttributeError\u001b[0m: 'Ontology' object has no attribute 'relationships'"
     ]
    }
   ],
   "source": [
    "from pronto import Ontology\n",
    "ont = Ontology(\"conference_ontologies/Conference.owl\")\n",
    "ont.relationships"
   ]
  },
  {
   "cell_type": "code",
   "execution_count": 49,
   "metadata": {},
   "outputs": [
    {
     "data": {
      "text/plain": [
       "'dev'"
      ]
     },
     "execution_count": 49,
     "metadata": {},
     "output_type": "execute_result"
    }
   ],
   "source": [
    "import pronto\n",
    "pronto.__version__"
   ]
  },
  {
   "cell_type": "code",
   "execution_count": null,
   "metadata": {},
   "outputs": [],
   "source": []
  }
 ],
 "metadata": {
  "kernelspec": {
   "display_name": "Python 3",
   "language": "python",
   "name": "python3"
  },
  "language_info": {
   "codemirror_mode": {
    "name": "ipython",
    "version": 3
   },
   "file_extension": ".py",
   "mimetype": "text/x-python",
   "name": "python",
   "nbconvert_exporter": "python",
   "pygments_lexer": "ipython3",
   "version": "3.7.6"
  }
 },
 "nbformat": 4,
 "nbformat_minor": 4
}
